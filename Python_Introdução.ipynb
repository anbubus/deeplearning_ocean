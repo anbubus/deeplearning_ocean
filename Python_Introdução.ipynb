{
  "nbformat": 4,
  "nbformat_minor": 0,
  "metadata": {
    "colab": {
      "name": "Python:Introdução.ipynb",
      "provenance": [],
      "collapsed_sections": [],
      "include_colab_link": true
    },
    "kernelspec": {
      "name": "python3",
      "display_name": "Python 3"
    },
    "language_info": {
      "name": "python"
    }
  },
  "cells": [
    {
      "cell_type": "markdown",
      "metadata": {
        "id": "view-in-github",
        "colab_type": "text"
      },
      "source": [
        "<a href=\"https://colab.research.google.com/github/anbubus/deeplearning_ocean/blob/main/Python_Introdu%C3%A7%C3%A3o.ipynb\" target=\"_parent\"><img src=\"https://colab.research.google.com/assets/colab-badge.svg\" alt=\"Open In Colab\"/></a>"
      ]
    },
    {
      "cell_type": "markdown",
      "metadata": {
        "id": "p-q9cZL2tPvE"
      },
      "source": [
        "# Um pouco sobre a história da computação."
      ]
    },
    {
      "cell_type": "markdown",
      "metadata": {
        "id": "UzNxxj6M_bqq"
      },
      "source": [
        "## O que é programação?"
      ]
    },
    {
      "cell_type": "markdown",
      "metadata": {
        "id": "INxvCxfL_3Jn"
      },
      "source": [
        "## O que é um programa de computador?\n",
        "\n"
      ]
    },
    {
      "cell_type": "markdown",
      "metadata": {
        "id": "LLoSPWxQADqa"
      },
      "source": [
        "## O que é um algoritmo?"
      ]
    },
    {
      "cell_type": "markdown",
      "metadata": {
        "id": "SyJDtR9DAI8V"
      },
      "source": [
        "# Python\n",
        "### Aplicações python\n",
        "### Ambientes de programação python\n",
        "\n",
        "\n",
        "\n"
      ]
    },
    {
      "cell_type": "markdown",
      "metadata": {
        "id": "TF1tX30Pj6dT"
      },
      "source": [
        "# A linguagem Python"
      ]
    },
    {
      "cell_type": "code",
      "metadata": {
        "colab": {
          "base_uri": "https://localhost:8080/"
        },
        "id": "z9DaUt8NkEMb",
        "outputId": "5f42e7de-7cde-4e93-a932-379bb274b27f"
      },
      "source": [
        "print(\"Hello World\") #  Este é um comentário"
      ],
      "execution_count": null,
      "outputs": [
        {
          "output_type": "stream",
          "text": [
            "Hello World\n"
          ],
          "name": "stdout"
        }
      ]
    },
    {
      "cell_type": "markdown",
      "metadata": {
        "id": "gTtyE3plpq4x"
      },
      "source": [
        "# Tipos de dados em Python"
      ]
    },
    {
      "cell_type": "code",
      "metadata": {
        "colab": {
          "base_uri": "https://localhost:8080/"
        },
        "id": "0qV5ISL1utuu",
        "outputId": "c0b54743-260d-4d45-f2ca-44ecfd0ff7b0"
      },
      "source": [
        " aluno  = \"Elisangela\"\n",
        "print(aluno)"
      ],
      "execution_count": null,
      "outputs": [
        {
          "output_type": "stream",
          "text": [
            "Elisangela\n"
          ],
          "name": "stdout"
        }
      ]
    },
    {
      "cell_type": "code",
      "metadata": {
        "colab": {
          "base_uri": "https://localhost:8080/"
        },
        "id": "SsGvi_VXpxNc",
        "outputId": "397dfd46-da91-46a5-abf2-9f60794f5bc6"
      },
      "source": [
        "print(type(27)) # O tipo de dados do número 27 é int(numero inteiro)\n",
        "print(type(5.7)) # O tipo de dados do número 5.7 é float(numero decimal)\n",
        "print(type(5.7 + 27j)) # O tipo de dados do número 5.7 é complex (numero coplex)\n",
        "print(type('Isso é um texto, \"Aspas\" \\n'))\n",
        "print(type(False))"
      ],
      "execution_count": null,
      "outputs": [
        {
          "output_type": "stream",
          "text": [
            "<class 'int'>\n",
            "<class 'float'>\n",
            "<class 'complex'>\n",
            "<class 'str'>\n",
            "<class 'bool'>\n"
          ],
          "name": "stdout"
        }
      ]
    },
    {
      "cell_type": "markdown",
      "metadata": {
        "id": "1Aajf9fIK1qx"
      },
      "source": [
        "# Variáveis "
      ]
    },
    {
      "cell_type": "code",
      "metadata": {
        "colab": {
          "base_uri": "https://localhost:8080/"
        },
        "id": "tCWKfak6LZ4Y",
        "outputId": "fc95f436-b337-4028-9546-fb415fb96a39"
      },
      "source": [
        "nome_usuario = \"Danilo\"\n",
        "numero = 20\n",
        "fracao = 8.5\n",
        "print(nome, numero, fracao)\n"
      ],
      "execution_count": null,
      "outputs": [
        {
          "output_type": "stream",
          "text": [
            "Danilo 20 8.5\n"
          ],
          "name": "stdout"
        }
      ]
    },
    {
      "cell_type": "markdown",
      "metadata": {
        "id": "oVBDb1UTOrbg"
      },
      "source": [
        "# `Concatenação e conversão de tipos de variáveis"
      ]
    },
    {
      "cell_type": "code",
      "metadata": {
        "colab": {
          "base_uri": "https://localhost:8080/"
        },
        "id": "4Z0rE4_AO67a",
        "outputId": "8a6f4f8c-92b0-4975-e211-62fa335ab1df"
      },
      "source": [
        "\n",
        "\n",
        "primeiro_numero = \"20\"\n",
        "segundo_numero = \"21\"\n",
        "print(primeiro_numero + \" \" +segundo_numero)\n",
        "print(primeiro_numero, segundo_numero)\n",
        "\n",
        "nome  = input(\"Digite seu nome\")\n",
        "sobrenome = \"Miguel\"\n",
        "idade = 35\n",
        "\n",
        "print(type(idade))\n",
        "\n",
        "print(nome, sobrenome, idade)\n",
        "print (\"Oi meu nome é: \" + nome + \" \" + sobrenome + \" minha idade é 35\")\n",
        "print (\"Oi meu nome é: \" + nome + \" e minha idade é \" + str(idade))\n",
        "print (\"Oi meu nome é: \",nome, \" e minha idade é\",idade, \"teste\" )\n",
        "\n",
        "print(type(idade))       \n",
        "print(type(str(idade)))   # resulta STR\n",
        "\n",
        "\n",
        "print(type(idade))\n",
        "\n",
        "str()\n",
        "\n",
        "numero_inteiro = 100\n",
        "numero  = float(numero_inteiro)\n",
        "\n",
        "print(numero_inteiro, numero)\n",
        "\n",
        "teste_conversao = \"45.\"\n",
        "teste_conversao_string = float(teste_conversao)\n",
        "print(teste_conversao)\n",
        "print(teste_conversao_string)\n",
        "\n",
        "numero_complexo_string =\"1+5j\"\n",
        "string_teste = \"j\"\n",
        "convert_complex = complex(string_teste)\n",
        "numero_complexo = complex(numero_complexo_string)\n"
      ],
      "execution_count": null,
      "outputs": [
        {
          "output_type": "stream",
          "text": [
            "20 21\n",
            "20 21\n",
            "Digite seu nomeDanilo\n",
            "<class 'int'>\n",
            "Danilo Miguel 35\n",
            "Oi meu nome é: Danilo Miguel minha idade é 35\n",
            "Oi meu nome é: Danilo e minha idade é 35\n",
            "Oi meu nome é:  Danilo  e minha idade é 35 teste\n",
            "<class 'int'>\n",
            "<class 'str'>\n",
            "<class 'int'>\n",
            "100 100.0\n",
            "45.\n",
            "45.0\n"
          ],
          "name": "stdout"
        }
      ]
    },
    {
      "cell_type": "markdown",
      "metadata": {
        "id": "Gg9kziH_WlKz"
      },
      "source": [
        "# Desafio: \n",
        "##Quem é você? Imprima seu nome, sua idade e qual será sua idade no próximo ano."
      ]
    },
    {
      "cell_type": "code",
      "metadata": {
        "colab": {
          "base_uri": "https://localhost:8080/"
        },
        "id": "TV63TwLHXhZR",
        "outputId": "6a283fca-50e4-4706-bd3e-abbb3fac0daf"
      },
      "source": [
        "idade = 35\n",
        "nome = \"Danilo\"\n",
        "print(\"Meu nome é\" + \" \" + nome + \" minha idade é \" + str(idade) + \" e ano q vem minha idade sera \" + str(idade + 1))\n"
      ],
      "execution_count": null,
      "outputs": [
        {
          "output_type": "stream",
          "text": [
            "Meu nome é Danilo minha idade é 35 e ano q vem minha idade sera 36\n"
          ],
          "name": "stdout"
        }
      ]
    },
    {
      "cell_type": "markdown",
      "metadata": {
        "id": "giDs_SUAaDu4"
      },
      "source": [
        "# Operação com boleanos"
      ]
    },
    {
      "cell_type": "code",
      "metadata": {
        "colab": {
          "base_uri": "https://localhost:8080/"
        },
        "id": "MeqQ59EAbMM0",
        "outputId": "a9c6dc0d-f231-47b8-98ef-9e7ab2aa16cd"
      },
      "source": [
        "\n",
        "True + 4 * True"
      ],
      "execution_count": null,
      "outputs": [
        {
          "output_type": "execute_result",
          "data": {
            "text/plain": [
              "5"
            ]
          },
          "metadata": {
            "tags": []
          },
          "execution_count": 72
        }
      ]
    },
    {
      "cell_type": "markdown",
      "metadata": {
        "id": "HfXSrDGbfjMR"
      },
      "source": [
        "#Desafio: \n",
        "## Entre com o valor da conta de um restaurante e calcule a gorjeta do garçom, nesse restaurante a gorjeta do garçom é de 10 por cento.\n"
      ]
    },
    {
      "cell_type": "code",
      "metadata": {
        "colab": {
          "base_uri": "https://localhost:8080/"
        },
        "id": "pPcDhQQpfmtb",
        "outputId": "8baa5b49-9c9f-47b7-d82e-bc792ed95081"
      },
      "source": [
        "valor_da_conta = float(input(\"Insira o valor da conta \"))\n",
        "gorjeta = valor_da_conta * 0.10\n",
        "print(gorjeta) "
      ],
      "execution_count": null,
      "outputs": [
        {
          "output_type": "stream",
          "text": [
            "Insira o valor da conta 500\n",
            "500.0\n",
            "50.0\n"
          ],
          "name": "stdout"
        }
      ]
    },
    {
      "cell_type": "markdown",
      "metadata": {
        "id": "LEXVGMignMEI"
      },
      "source": [
        "# Manipulação de Strings"
      ]
    },
    {
      "cell_type": "code",
      "metadata": {
        "colab": {
          "base_uri": "https://localhost:8080/"
        },
        "id": "Pry0iCT6nS9k",
        "outputId": "b28e34ed-bc21-4ab3-f277-8e7dd7f9e574"
      },
      "source": [
        "teste =  \"Primeiro Teste\"\n",
        "segundo_teste = \"Este é outro teste\"\n",
        "numero = \"54.5\"\n",
        "\n",
        "type(teste) # Tipo de dados da variável\n",
        "len(teste) # Tamanho da variável\n",
        "sub = teste.replace(teste, \"Miguel\") # Substituição do valor da variável\n",
        "\n",
        "print(teste.replace(teste, \"Miguel\"))\n",
        "print(teste.replace(teste, \"52\"))\n",
        "print(teste.replace(teste, str(52)))\n",
        "print(numero.replace(numero, str(54.5)))\n",
        "\n",
        "\n",
        "print(sub) # Concatenação\n",
        "\n",
        "\n",
        "numero = 54.5\n",
        "conv = str(numero)\n",
        "\n",
        "print(conv.replace(\".\", \",\"))\n",
        "\n"
      ],
      "execution_count": null,
      "outputs": [
        {
          "output_type": "stream",
          "text": [
            "Miguel\n",
            "52\n",
            "52\n",
            "54.5\n",
            "Miguel\n",
            "54,5\n"
          ],
          "name": "stdout"
        }
      ]
    },
    {
      "cell_type": "markdown",
      "metadata": {
        "id": "u04G_aKNuGoz"
      },
      "source": [
        "# Operadores"
      ]
    },
    {
      "cell_type": "markdown",
      "metadata": {
        "id": "14kBfXHQubOC"
      },
      "source": [
        "### Operadores aritméticos"
      ]
    },
    {
      "cell_type": "code",
      "metadata": {
        "colab": {
          "base_uri": "https://localhost:8080/"
        },
        "id": "gx8L15w7uKMF",
        "outputId": "e4df31ca-cb6d-47e7-fdda-aecf570b4d16"
      },
      "source": [
        "print (5 + 5) # soma\n",
        "print (85 - 72) # subtração\n",
        "print (8 * 7) # multiplicação\n",
        "print (56 / 12) # divisão\n",
        "\n",
        "print(4 ** 4) # Potenciação\n",
        "print(5 // 2) # Retorna sempre um numero inteiro\n",
        "print(6 % 2 ) # Retorna o resto da divisão\n",
        "\n",
        "import math\n",
        "numero = 9\n",
        "print(math.sqrt(numero))\n",
        "\n",
        "help(input)\n"
      ],
      "execution_count": null,
      "outputs": [
        {
          "output_type": "stream",
          "text": [
            "10\n",
            "13\n",
            "56\n",
            "4.666666666666667\n",
            "256\n",
            "2\n",
            "0\n",
            "3.0\n",
            "Help on method raw_input in module ipykernel.kernelbase:\n",
            "\n",
            "raw_input(prompt='') method of google.colab._kernel.Kernel instance\n",
            "    Forward raw_input to frontends\n",
            "    \n",
            "    Raises\n",
            "    ------\n",
            "    StdinNotImplentedError if active frontend doesn't support stdin.\n",
            "\n"
          ],
          "name": "stdout"
        }
      ]
    },
    {
      "cell_type": "markdown",
      "metadata": {
        "id": "tbNO6KSdxhsf"
      },
      "source": [
        "### Operadores de atribuição"
      ]
    },
    {
      "cell_type": "code",
      "metadata": {
        "colab": {
          "base_uri": "https://localhost:8080/"
        },
        "id": "7p-zs8jCxohp",
        "outputId": "d2225206-810b-4eed-d62c-1f3542dc13b0"
      },
      "source": [
        " x = 1\n",
        " x += 1  # x = x + 1\n",
        "\n",
        " print(x)"
      ],
      "execution_count": null,
      "outputs": [
        {
          "output_type": "stream",
          "text": [
            "2\n"
          ],
          "name": "stdout"
        }
      ]
    }
  ]
}